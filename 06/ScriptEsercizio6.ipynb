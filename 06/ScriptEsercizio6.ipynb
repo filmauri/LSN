{
 "cells": [
  {
   "cell_type": "markdown",
   "id": "8164a875",
   "metadata": {},
   "source": [
    "# Script for executing the full routine"
   ]
  },
  {
   "cell_type": "markdown",
   "id": "fc2a7787",
   "metadata": {},
   "source": [
    "- System equilibration at temperature 2\n",
    "- The objective is to have all the data needed to make comparisons with the exact solutions. First, the entire process will be done using the Metropolis algorithm, and once the necessary files are produced, the code will restart from the previously produced equilibrated condition and produce all the data using the Gibbs algorithm."
   ]
  },
  {
   "cell_type": "markdown",
   "id": "9e9bc484",
   "metadata": {},
   "source": [
    "## Equilibration\n",
    "To carry out this task and generate a useful file for plotting in which the equilibration can be visibly appreciated, we will need to modify the `input.dat` file with the following parameters:\n",
    "\n",
    "SIMULATION_TYPE        2    1.0   0.0\n",
    "\n",
    "RESTART                0\n",
    "\n",
    "TEMP                   2\n",
    "\n",
    "NPART                  50\n",
    "\n",
    "RHO                    0.05\n",
    "\n",
    "R_CUT                  5\n",
    "\n",
    "DELTA                  0.001\n",
    "\n",
    "NBLOCKS                1000\n",
    "\n",
    "NSTEPS                 1\n",
    "\n",
    "\n",
    "ENDINPUT"
   ]
  },
  {
   "cell_type": "code",
   "execution_count": null,
   "id": "94276972",
   "metadata": {},
   "outputs": [],
   "source": [
    "import os\n",
    "import shutil #shell utilities library\n",
    "import numpy as np"
   ]
  },
  {
   "cell_type": "markdown",
   "id": "ed8b2c1c",
   "metadata": {},
   "source": [
    "We make sure to start from scratch"
   ]
  },
  {
   "cell_type": "code",
   "execution_count": 73,
   "id": "335b7e54",
   "metadata": {},
   "outputs": [
    {
     "name": "stdout",
     "output_type": "stream",
     "text": [
      "Contenuto di '/Users/marta/Documents/LSN/06/NSL_SIMULATOR/OUTPUT/GIBBS' eliminato.\n",
      "Contenuto di '/Users/marta/Documents/LSN/06/NSL_SIMULATOR/OUTPUT/METROPOLIS' eliminato.\n"
     ]
    }
   ],
   "source": [
    "cartelle_da_svuotare = [\n",
    "    \"/Users/marta/Documents/LSN/06/NSL_SIMULATOR/OUTPUT/GIBBS\",\n",
    "    \"/Users/marta/Documents/LSN/06/NSL_SIMULATOR/OUTPUT/METROPOLIS\"\n",
    "]\n",
    "for cartella in cartelle_da_svuotare:\n",
    "    if os.path.exists(cartella):\n",
    "        for elemento in os.listdir(cartella):\n",
    "            percorso = os.path.join(cartella, elemento)\n",
    "            if os.path.isfile(percorso) or os.path.islink(percorso):\n",
    "                os.remove(percorso)\n",
    "            elif os.path.isdir(percorso):\n",
    "                shutil.rmtree(percorso)\n",
    "        print(f\"Contenuto di '{cartella}' eliminato.\")\n",
    "    else:\n",
    "        print(f\"La cartella '{cartella}' non esiste.\")"
   ]
  },
  {
   "cell_type": "markdown",
   "id": "3d5dfac1",
   "metadata": {},
   "source": [
    "Editing of the input file and executing"
   ]
  },
  {
   "cell_type": "code",
   "execution_count": 74,
   "id": "6a52234e",
   "metadata": {},
   "outputs": [
    {
     "name": "stdout",
     "output_type": "stream",
     "text": [
      "rm *.o simulator.exe\n",
      "g++ -c system.cpp -o system.o -O3 --std=c++11\n"
     ]
    },
    {
     "name": "stderr",
     "output_type": "stream",
     "text": [
      "In file included from system.cpp:14:\n",
      "In file included from ./system.h:18:\n",
      "In file included from /opt/homebrew/include/armadillo:27:\n",
      "/opt/homebrew/include/armadillo_bits/compiler_check.hpp:87:11: warning: INFO: support for C++11 is deprecated; minimum recommended standard is C++14 [-W#pragma-messages]\n",
      "   87 |   #pragma message (\"INFO: support for C++11 is deprecated; minimum recommended standard is C++14\")\n",
      "      |           ^\n",
      "1 warning generated.\n"
     ]
    },
    {
     "name": "stdout",
     "output_type": "stream",
     "text": [
      "g++ -c NSL_SIMULATOR.cpp -o NSL_SIMULATOR.o -O3 --std=c++11\n"
     ]
    },
    {
     "name": "stderr",
     "output_type": "stream",
     "text": [
      "In file included from NSL_SIMULATOR.cpp:12:\n",
      "In file included from ./system.h:18:\n",
      "In file included from /opt/homebrew/include/armadillo:27:\n",
      "/opt/homebrew/include/armadillo_bits/compiler_check.hpp:87:11: warning: INFO: support for C++11 is deprecated; minimum recommended standard is C++14 [-W#pragma-messages]\n",
      "   87 |   #pragma message (\"INFO: support for C++11 is deprecated; minimum recommended standard is C++14\")\n",
      "      |           ^\n",
      "1 warning generated.\n"
     ]
    },
    {
     "name": "stdout",
     "output_type": "stream",
     "text": [
      "g++ -c particle.cpp -o particle.o -O3 --std=c++11\n"
     ]
    },
    {
     "name": "stderr",
     "output_type": "stream",
     "text": [
      "In file included from particle.cpp:13:\n",
      "In file included from ./particle.h:14:\n",
      "In file included from /opt/homebrew/include/armadillo:27:\n",
      "/opt/homebrew/include/armadillo_bits/compiler_check.hpp:87:11: warning: INFO: support for C++11 is deprecated; minimum recommended standard is C++14 [-W#pragma-messages]\n",
      "   87 |   #pragma message (\"INFO: support for C++11 is deprecated; minimum recommended standard is C++14\")\n",
      "      |           ^\n",
      "1 warning generated.\n"
     ]
    },
    {
     "name": "stdout",
     "output_type": "stream",
     "text": [
      "g++ -c random.cpp -o random.o -O3 --std=c++11\n",
      "g++ system.o particle.o random.o NSL_SIMULATOR.o -o simulator.exe -larmadillo\n"
     ]
    },
    {
     "name": "stderr",
     "output_type": "stream",
     "text": [
      "\n",
      "real\t0m0.916s\n",
      "user\t0m0.373s\n",
      "sys\t0m0.269s\n"
     ]
    },
    {
     "data": {
      "text/plain": [
       "0"
      ]
     },
     "execution_count": 74,
     "metadata": {},
     "output_type": "execute_result"
    }
   ],
   "source": [
    "with open('/Users/marta/Documents/LSN/06/NSL_SIMULATOR/INPUT/input.dat', 'w') as file:\n",
    "    file.write(\"SIMULATION_TYPE        2    1.0   0.0\\nRESTART                0\\nTEMP                   2\\nNPART                  50\\nRHO                    0.05\\nR_CUT                  5\\nDELTA                  0.001\\nNBLOCKS                1000\\nNSTEPS                 1\\n\\nENDINPUT\")\n",
    "\n",
    "os.chdir('/Users/marta/Documents/LSN/06/NSL_SIMULATOR/SOURCE')\n",
    "os.system('make clean')\n",
    "os.system('make')\n",
    "os.system('time ./simulator.exe')"
   ]
  },
  {
   "cell_type": "markdown",
   "id": "86caa44a",
   "metadata": {},
   "source": [
    "Copy of the equilibration output folder into a folder called OUTPUT_Equilibrazione"
   ]
  },
  {
   "cell_type": "code",
   "execution_count": 75,
   "id": "cf1498d5",
   "metadata": {},
   "outputs": [
    {
     "name": "stdout",
     "output_type": "stream",
     "text": [
      "Cartella copiata e rinominata in: /Users/marta/Documents/LSN/06/NSL_SIMULATOR/OUTPUT_Equilibrazione\n"
     ]
    }
   ],
   "source": [
    "origine = \"/Users/marta/Documents/LSN/06/NSL_SIMULATOR/OUTPUT\"\n",
    "destinazione = \"/Users/marta/Documents/LSN/06/NSL_SIMULATOR/OUTPUT_Equilibrazione\"\n",
    "\n",
    "# Se la cartella di destinazione esiste, la elimino\n",
    "if os.path.exists(destinazione):\n",
    "    shutil.rmtree(destinazione)  # rimuove l'intera cartella\n",
    "\n",
    "# Copia della cartella\n",
    "shutil.copytree(origine, destinazione)\n",
    "print(f\"Cartella copiata e rinominata in: {destinazione}\")"
   ]
  },
  {
   "cell_type": "markdown",
   "id": "44ad889b",
   "metadata": {},
   "source": [
    "# Metropolis with H = 0, measure of $\\chi$ and $Cv$"
   ]
  },
  {
   "cell_type": "markdown",
   "id": "cbd615d9",
   "metadata": {},
   "source": [
    "Now I copy the spin configuration obtained from the equilibration into the input folder for the next simulation and set the input.dat file to tackle the simulation with T = 2 using the METROPOLIS method"
   ]
  },
  {
   "cell_type": "code",
   "execution_count": 76,
   "id": "d147bb8f",
   "metadata": {},
   "outputs": [
    {
     "name": "stdout",
     "output_type": "stream",
     "text": [
      "File copiato da:\n",
      "/Users/marta/Documents/LSN/06/NSL_SIMULATOR/OUTPUT_Equilibrazione/CONFIG/config.ising\n",
      "a:\n",
      "/Users/marta/Documents/LSN/06/NSL_SIMULATOR/INPUT/CONFIG/config.spin\n",
      "make: Nothing to be done for `all'.\n"
     ]
    },
    {
     "name": "stderr",
     "output_type": "stream",
     "text": [
      "\n",
      "real\t0m22.158s\n",
      "user\t0m21.855s\n",
      "sys\t0m0.172s\n"
     ]
    },
    {
     "data": {
      "text/plain": [
       "0"
      ]
     },
     "execution_count": 76,
     "metadata": {},
     "output_type": "execute_result"
    }
   ],
   "source": [
    "origine = \"/Users/marta/Documents/LSN/06/NSL_SIMULATOR/OUTPUT_Equilibrazione/CONFIG/config.ising\"\n",
    "\n",
    "# Percorso del file di destinazione (con nuovo nome)\n",
    "destinazione = \"/Users/marta/Documents/LSN/06/NSL_SIMULATOR/INPUT/CONFIG/config.spin\"\n",
    "\n",
    "# Crea le cartelle di destinazione se non esistono\n",
    "os.makedirs(os.path.dirname(destinazione), exist_ok=True)\n",
    "\n",
    "# Copia il file\n",
    "shutil.copyfile(origine, destinazione)\n",
    "print(f\"File copiato da:\\n{origine}\\na:\\n{destinazione}\")\n",
    "\n",
    "with open('/Users/marta/Documents/LSN/06/NSL_SIMULATOR/INPUT/input.dat', 'w') as file:\n",
    "    file.write(\"SIMULATION_TYPE        2    1.0   0.0\\nRESTART                1\\nTEMP                   2\\nNPART                  50\\nRHO                    0.05\\nR_CUT                  5\\nDELTA                  0.001\\nNBLOCKS                50\\nNSTEPS                 10000\\n\\nENDINPUT\")\n",
    "\n",
    "os.chdir('/Users/marta/Documents/LSN/06/NSL_SIMULATOR/SOURCE')\n",
    "\n",
    "os.system('make')\n",
    "os.system('time ./simulator.exe')\n",
    "\n"
   ]
  },
  {
   "cell_type": "markdown",
   "id": "4b3492aa",
   "metadata": {},
   "source": [
    "I copy the final configuration into the input file. I modify the temperature and repeat the process"
   ]
  },
  {
   "cell_type": "code",
   "execution_count": 77,
   "id": "9ceb8332",
   "metadata": {},
   "outputs": [
    {
     "name": "stdout",
     "output_type": "stream",
     "text": [
      "\n",
      "--- Simulazione con TEMP = 1.800 ---\n",
      "\n",
      "--- Simulazione con TEMP = 1.656 ---\n",
      "\n",
      "--- Simulazione con TEMP = 1.511 ---\n",
      "\n",
      "--- Simulazione con TEMP = 1.367 ---\n",
      "\n",
      "--- Simulazione con TEMP = 1.222 ---\n",
      "\n",
      "--- Simulazione con TEMP = 1.078 ---\n",
      "\n",
      "--- Simulazione con TEMP = 0.933 ---\n",
      "\n",
      "--- Simulazione con TEMP = 0.789 ---\n",
      "\n",
      "--- Simulazione con TEMP = 0.644 ---\n",
      "\n",
      "--- Simulazione con TEMP = 0.500 ---\n",
      "Cartella copiata e rinominata in: /Users/marta/Documents/LSN/06/NSL_SIMULATOR/OUTPUT_METRO_NO_H\n"
     ]
    }
   ],
   "source": [
    "temperature = np.linspace(1.8, 0.5, 10)\n",
    "\n",
    "# Percorsi fissi\n",
    "origine = \"/Users/marta/Documents/LSN/06/NSL_SIMULATOR/OUTPUT/CONFIG/config.ising\"\n",
    "destinazione = \"/Users/marta/Documents/LSN/06/NSL_SIMULATOR/INPUT/CONFIG/config.spin\"\n",
    "input_file_path = \"/Users/marta/Documents/LSN/06/NSL_SIMULATOR/INPUT/input.dat\"\n",
    "source_dir = \"/Users/marta/Documents/LSN/06/NSL_SIMULATOR/SOURCE\"\n",
    "\n",
    "for temp in temperature:\n",
    "    print(f\"\\n--- Simulazione con TEMP = {temp:.3f} ---\")\n",
    "\n",
    "    os.makedirs(os.path.dirname(destinazione), exist_ok=True)\n",
    "    shutil.copyfile(origine, destinazione)\n",
    "\n",
    "    with open(input_file_path, 'w') as file:\n",
    "        file.write(\n",
    "            f\"SIMULATION_TYPE        2    1.0   0.0\\n\"\n",
    "            f\"RESTART                1\\n\"\n",
    "            f\"TEMP                   {temp:.3f}\\n\"\n",
    "            f\"NPART                  50\\n\"\n",
    "            f\"RHO                    0.05\\n\"\n",
    "            f\"R_CUT                  5\\n\"\n",
    "            f\"DELTA                  0.001\\n\"\n",
    "            f\"NBLOCKS                50\\n\"\n",
    "            f\"NSTEPS                 10000\\n\\n\"\n",
    "            f\"ENDINPUT\"\n",
    "        )\n",
    "\n",
    "    os.chdir(source_dir)\n",
    "    os.system('./simulator.exe')\n",
    "\n",
    "origine = \"/Users/marta/Documents/LSN/06/NSL_SIMULATOR/OUTPUT\"\n",
    "destinazione = \"/Users/marta/Documents/LSN/06/NSL_SIMULATOR/OUTPUT_METRO_NO_H\"\n",
    "\n",
    "# Se la cartella di destinazione esiste, la elimino\n",
    "if os.path.exists(destinazione):\n",
    "    shutil.rmtree(destinazione)  # rimuove l'intera cartella\n",
    "\n",
    "# Copia della cartella\n",
    "shutil.copytree(origine, destinazione)\n",
    "print(f\"Cartella copiata e rinominata in: {destinazione}\")"
   ]
  },
  {
   "cell_type": "markdown",
   "id": "356b6948",
   "metadata": {},
   "source": [
    "# Metropolis with H = 0.02, measure of $M$"
   ]
  },
  {
   "cell_type": "markdown",
   "id": "01758ce7",
   "metadata": {},
   "source": [
    "Re-equilibration of the configuration with the magnetic field turned on to make magnetization measurements"
   ]
  },
  {
   "cell_type": "code",
   "execution_count": 78,
   "id": "1dae54f1",
   "metadata": {},
   "outputs": [
    {
     "name": "stdout",
     "output_type": "stream",
     "text": [
      "rm *.o simulator.exe\n",
      "g++ -c system.cpp -o system.o -O3 --std=c++11\n"
     ]
    },
    {
     "name": "stderr",
     "output_type": "stream",
     "text": [
      "In file included from system.cpp:14:\n",
      "In file included from ./system.h:18:\n",
      "In file included from /opt/homebrew/include/armadillo:27:\n",
      "/opt/homebrew/include/armadillo_bits/compiler_check.hpp:87:11: warning: INFO: support for C++11 is deprecated; minimum recommended standard is C++14 [-W#pragma-messages]\n",
      "   87 |   #pragma message (\"INFO: support for C++11 is deprecated; minimum recommended standard is C++14\")\n",
      "      |           ^\n",
      "1 warning generated.\n"
     ]
    },
    {
     "name": "stdout",
     "output_type": "stream",
     "text": [
      "g++ -c NSL_SIMULATOR.cpp -o NSL_SIMULATOR.o -O3 --std=c++11\n"
     ]
    },
    {
     "name": "stderr",
     "output_type": "stream",
     "text": [
      "In file included from NSL_SIMULATOR.cpp:12:\n",
      "In file included from ./system.h:18:\n",
      "In file included from /opt/homebrew/include/armadillo:27:\n",
      "/opt/homebrew/include/armadillo_bits/compiler_check.hpp:87:11: warning: INFO: support for C++11 is deprecated; minimum recommended standard is C++14 [-W#pragma-messages]\n",
      "   87 |   #pragma message (\"INFO: support for C++11 is deprecated; minimum recommended standard is C++14\")\n",
      "      |           ^\n",
      "1 warning generated.\n"
     ]
    },
    {
     "name": "stdout",
     "output_type": "stream",
     "text": [
      "g++ -c particle.cpp -o particle.o -O3 --std=c++11\n"
     ]
    },
    {
     "name": "stderr",
     "output_type": "stream",
     "text": [
      "In file included from particle.cpp:13:\n",
      "In file included from ./particle.h:14:\n",
      "In file included from /opt/homebrew/include/armadillo:27:\n",
      "/opt/homebrew/include/armadillo_bits/compiler_check.hpp:87:11: warning: INFO: support for C++11 is deprecated; minimum recommended standard is C++14 [-W#pragma-messages]\n",
      "   87 |   #pragma message (\"INFO: support for C++11 is deprecated; minimum recommended standard is C++14\")\n",
      "      |           ^\n",
      "1 warning generated.\n"
     ]
    },
    {
     "name": "stdout",
     "output_type": "stream",
     "text": [
      "g++ -c random.cpp -o random.o -O3 --std=c++11\n",
      "g++ system.o particle.o random.o NSL_SIMULATOR.o -o simulator.exe -larmadillo\n"
     ]
    },
    {
     "name": "stderr",
     "output_type": "stream",
     "text": [
      "\n",
      "real\t0m0.830s\n",
      "user\t0m0.368s\n",
      "sys\t0m0.296s\n"
     ]
    },
    {
     "data": {
      "text/plain": [
       "0"
      ]
     },
     "execution_count": 78,
     "metadata": {},
     "output_type": "execute_result"
    }
   ],
   "source": [
    "with open('/Users/marta/Documents/LSN/06/NSL_SIMULATOR/INPUT/input.dat', 'w') as file:\n",
    "    file.write(\"SIMULATION_TYPE        2    1.0   0.02\\nRESTART                0\\nTEMP                   2\\nNPART                  50\\nRHO                    0.05\\nR_CUT                  5\\nDELTA                  0.001\\nNBLOCKS                1000\\nNSTEPS                 1\\n\\nENDINPUT\")\n",
    "\n",
    "os.chdir('/Users/marta/Documents/LSN/06/NSL_SIMULATOR/SOURCE')\n",
    "os.system('make clean')\n",
    "os.system('make')\n",
    "os.system('time ./simulator.exe')"
   ]
  },
  {
   "cell_type": "code",
   "execution_count": 79,
   "id": "c927faf7",
   "metadata": {},
   "outputs": [
    {
     "name": "stdout",
     "output_type": "stream",
     "text": [
      "Cartella copiata e rinominata in: /Users/marta/Documents/LSN/06/NSL_SIMULATOR/OUTPUT_Equilibrazione\n"
     ]
    }
   ],
   "source": [
    "origine = \"/Users/marta/Documents/LSN/06/NSL_SIMULATOR/OUTPUT\"\n",
    "destinazione = \"/Users/marta/Documents/LSN/06/NSL_SIMULATOR/OUTPUT_Equilibrazione\"\n",
    "\n",
    "# Se la cartella di destinazione esiste, la elimino\n",
    "if os.path.exists(destinazione):\n",
    "    shutil.rmtree(destinazione)  # rimuove l'intera cartella\n",
    "\n",
    "# Copia della cartella\n",
    "shutil.copytree(origine, destinazione)\n",
    "print(f\"Cartella copiata e rinominata in: {destinazione}\")"
   ]
  },
  {
   "cell_type": "markdown",
   "id": "d92719a8",
   "metadata": {},
   "source": [
    "Setting up the equilibrated starting conditions and restarting by changing the input files."
   ]
  },
  {
   "cell_type": "code",
   "execution_count": 80,
   "id": "6e0e5fa7",
   "metadata": {},
   "outputs": [
    {
     "name": "stdout",
     "output_type": "stream",
     "text": [
      "File copiato da:\n",
      "/Users/marta/Documents/LSN/06/NSL_SIMULATOR/OUTPUT_Equilibrazione/CONFIG/config.ising\n",
      "a:\n",
      "/Users/marta/Documents/LSN/06/NSL_SIMULATOR/INPUT/CONFIG/config.spin\n",
      "make: Nothing to be done for `all'.\n"
     ]
    },
    {
     "name": "stderr",
     "output_type": "stream",
     "text": [
      "\n",
      "real\t0m21.928s\n",
      "user\t0m21.782s\n",
      "sys\t0m0.129s\n"
     ]
    },
    {
     "name": "stdout",
     "output_type": "stream",
     "text": [
      "\n",
      "--- Simulazione con TEMP = 2 ---\n",
      "\n",
      "--- Simulazione con TEMP = 1.800 ---\n",
      "\n",
      "--- Simulazione con TEMP = 1.655 ---\n",
      "\n",
      "--- Simulazione con TEMP = 1.509 ---\n",
      "\n",
      "--- Simulazione con TEMP = 1.364 ---\n",
      "\n",
      "--- Simulazione con TEMP = 1.218 ---\n",
      "\n",
      "--- Simulazione con TEMP = 1.073 ---\n",
      "\n",
      "--- Simulazione con TEMP = 0.927 ---\n",
      "\n",
      "--- Simulazione con TEMP = 0.782 ---\n",
      "\n",
      "--- Simulazione con TEMP = 0.636 ---\n",
      "\n",
      "--- Simulazione con TEMP = 0.491 ---\n",
      "\n",
      "--- Simulazione con TEMP = 0.345 ---\n",
      "\n",
      "--- Simulazione con TEMP = 0.200 ---\n",
      "Cartella copiata e rinominata in: /Users/marta/Documents/LSN/06/NSL_SIMULATOR/OUTPUT_METRO_H\n"
     ]
    }
   ],
   "source": [
    "origine = \"/Users/marta/Documents/LSN/06/NSL_SIMULATOR/OUTPUT_Equilibrazione/CONFIG/config.ising\"\n",
    "\n",
    "destinazione = \"/Users/marta/Documents/LSN/06/NSL_SIMULATOR/INPUT/CONFIG/config.spin\"\n",
    "\n",
    "os.makedirs(os.path.dirname(destinazione), exist_ok=True)\n",
    "\n",
    "# Copia il file\n",
    "shutil.copyfile(origine, destinazione)\n",
    "print(f\"File copiato da:\\n{origine}\\na:\\n{destinazione}\")\n",
    "\n",
    "with open('/Users/marta/Documents/LSN/06/NSL_SIMULATOR/INPUT/input.dat', 'w') as file:\n",
    "    file.write(\"SIMULATION_TYPE        2    1.0   0.02\\nRESTART                1\\nTEMP                   2\\nNPART                  50\\nRHO                    0.05\\nR_CUT                  5\\nDELTA                  0.001\\nNBLOCKS                50\\nNSTEPS                 10000\\n\\nENDINPUT\")\n",
    "\n",
    "os.chdir('/Users/marta/Documents/LSN/06/NSL_SIMULATOR/SOURCE')\n",
    "\n",
    "os.system('make')\n",
    "os.system('time ./simulator.exe')\n",
    "print(f\"\\n--- Simulazione con TEMP = 2 ---\")\n",
    "\n",
    "temperature = np.linspace(1.8, 0.2, 12)\n",
    "\n",
    "origine = \"/Users/marta/Documents/LSN/06/NSL_SIMULATOR/OUTPUT/CONFIG/config.ising\"\n",
    "destinazione = \"/Users/marta/Documents/LSN/06/NSL_SIMULATOR/INPUT/CONFIG/config.spin\"\n",
    "input_file_path = \"/Users/marta/Documents/LSN/06/NSL_SIMULATOR/INPUT/input.dat\"\n",
    "source_dir = \"/Users/marta/Documents/LSN/06/NSL_SIMULATOR/SOURCE\"\n",
    "\n",
    "for temp in temperature:\n",
    "    print(f\"\\n--- Simulazione con TEMP = {temp:.3f} ---\")\n",
    "\n",
    "    os.makedirs(os.path.dirname(destinazione), exist_ok=True)\n",
    "    shutil.copyfile(origine, destinazione)\n",
    "\n",
    "    with open(input_file_path, 'w') as file:\n",
    "        file.write(\n",
    "            f\"SIMULATION_TYPE        2    1.0   0.02\\n\"\n",
    "            f\"RESTART                1\\n\"\n",
    "            f\"TEMP                   {temp:.3f}\\n\"\n",
    "            f\"NPART                  50\\n\"\n",
    "            f\"RHO                    0.05\\n\"\n",
    "            f\"R_CUT                  5\\n\"\n",
    "            f\"DELTA                  0.001\\n\"\n",
    "            f\"NBLOCKS                50\\n\"\n",
    "            f\"NSTEPS                 10000\\n\\n\"\n",
    "            f\"ENDINPUT\"\n",
    "        )\n",
    "\n",
    "    os.chdir(source_dir)\n",
    "    os.system('./simulator.exe')\n",
    "\n",
    "origine = \"/Users/marta/Documents/LSN/06/NSL_SIMULATOR/OUTPUT\"\n",
    "destinazione = \"/Users/marta/Documents/LSN/06/NSL_SIMULATOR/OUTPUT_METRO_H\"\n",
    "\n",
    "# Se la cartella di destinazione esiste, la elimino\n",
    "if os.path.exists(destinazione):\n",
    "    shutil.rmtree(destinazione)  # rimuove l'intera cartella\n",
    "\n",
    "# Copia della cartella\n",
    "shutil.copytree(origine, destinazione)\n",
    "print(f\"Cartella copiata e rinominata in: {destinazione}\")"
   ]
  },
  {
   "cell_type": "markdown",
   "id": "8bfb8974",
   "metadata": {},
   "source": [
    "# Gibbs simulation\n",
    "## Equilibration without H"
   ]
  },
  {
   "cell_type": "code",
   "execution_count": 5,
   "id": "73e9e824",
   "metadata": {},
   "outputs": [
    {
     "name": "stdout",
     "output_type": "stream",
     "text": [
      "rm *.o simulator.exe\n",
      "g++ -c system.cpp -o system.o -O3 --std=c++11\n"
     ]
    },
    {
     "name": "stderr",
     "output_type": "stream",
     "text": [
      "In file included from system.cpp:14:\n",
      "In file included from ./system.h:18:\n",
      "In file included from /opt/homebrew/include/armadillo:27:\n",
      "/opt/homebrew/include/armadillo_bits/compiler_check.hpp:87:11: warning: INFO: support for C++11 is deprecated; minimum recommended standard is C++14 [-W#pragma-messages]\n",
      "   87 |   #pragma message (\"INFO: support for C++11 is deprecated; minimum recommended standard is C++14\")\n",
      "      |           ^\n",
      "1 warning generated.\n"
     ]
    },
    {
     "name": "stdout",
     "output_type": "stream",
     "text": [
      "g++ -c NSL_SIMULATOR.cpp -o NSL_SIMULATOR.o -O3 --std=c++11\n"
     ]
    },
    {
     "name": "stderr",
     "output_type": "stream",
     "text": [
      "In file included from NSL_SIMULATOR.cpp:12:\n",
      "In file included from ./system.h:18:\n",
      "In file included from /opt/homebrew/include/armadillo:27:\n",
      "/opt/homebrew/include/armadillo_bits/compiler_check.hpp:87:11: warning: INFO: support for C++11 is deprecated; minimum recommended standard is C++14 [-W#pragma-messages]\n",
      "   87 |   #pragma message (\"INFO: support for C++11 is deprecated; minimum recommended standard is C++14\")\n",
      "      |           ^\n",
      "1 warning generated.\n"
     ]
    },
    {
     "name": "stdout",
     "output_type": "stream",
     "text": [
      "g++ -c particle.cpp -o particle.o -O3 --std=c++11\n"
     ]
    },
    {
     "name": "stderr",
     "output_type": "stream",
     "text": [
      "In file included from particle.cpp:13:\n",
      "In file included from ./particle.h:14:\n",
      "In file included from /opt/homebrew/include/armadillo:27:\n",
      "/opt/homebrew/include/armadillo_bits/compiler_check.hpp:87:11: warning: INFO: support for C++11 is deprecated; minimum recommended standard is C++14 [-W#pragma-messages]\n",
      "   87 |   #pragma message (\"INFO: support for C++11 is deprecated; minimum recommended standard is C++14\")\n",
      "      |           ^\n",
      "1 warning generated.\n"
     ]
    },
    {
     "name": "stdout",
     "output_type": "stream",
     "text": [
      "g++ -c random.cpp -o random.o -O3 --std=c++11\n",
      "g++ system.o particle.o random.o NSL_SIMULATOR.o -o simulator.exe -larmadillo\n"
     ]
    },
    {
     "name": "stderr",
     "output_type": "stream",
     "text": [
      "\n",
      "real\t0m0.944s\n",
      "user\t0m0.362s\n",
      "sys\t0m0.283s\n"
     ]
    },
    {
     "data": {
      "text/plain": [
       "0"
      ]
     },
     "execution_count": 5,
     "metadata": {},
     "output_type": "execute_result"
    }
   ],
   "source": [
    "with open('/Users/marta/Documents/LSN/06/NSL_SIMULATOR/INPUT/input.dat', 'w') as file:\n",
    "    file.write(\"SIMULATION_TYPE        3    1.0   0.0\\nRESTART                0\\nTEMP                   2\\nNPART                  50\\nRHO                    0.05\\nR_CUT                  5\\nDELTA                  0.001\\nNBLOCKS                1000\\nNSTEPS                 1\\n\\nENDINPUT\")\n",
    "\n",
    "os.chdir('/Users/marta/Documents/LSN/06/NSL_SIMULATOR/SOURCE')\n",
    "os.system('make clean')\n",
    "os.system('make')\n",
    "os.system('time ./simulator.exe')"
   ]
  },
  {
   "cell_type": "code",
   "execution_count": 6,
   "id": "9dff2447",
   "metadata": {},
   "outputs": [
    {
     "name": "stdout",
     "output_type": "stream",
     "text": [
      "Cartella copiata e rinominata in: /Users/marta/Documents/LSN/06/NSL_SIMULATOR/OUTPUT_Equilibrazione\n"
     ]
    }
   ],
   "source": [
    "origine = \"/Users/marta/Documents/LSN/06/NSL_SIMULATOR/OUTPUT\"\n",
    "destinazione = \"/Users/marta/Documents/LSN/06/NSL_SIMULATOR/OUTPUT_Equilibrazione\"\n",
    "\n",
    "# Se la cartella di destinazione esiste, la elimino\n",
    "if os.path.exists(destinazione):\n",
    "    shutil.rmtree(destinazione)  # rimuove l'intera cartella\n",
    "\n",
    "# Copia della cartella\n",
    "shutil.copytree(origine, destinazione)\n",
    "print(f\"Cartella copiata e rinominata in: {destinazione}\")"
   ]
  },
  {
   "cell_type": "markdown",
   "id": "0fce1eb3",
   "metadata": {},
   "source": [
    "## Gibbs with H = 0, measure of $\\chi$ and $Cv$"
   ]
  },
  {
   "cell_type": "code",
   "execution_count": 7,
   "id": "f4ee2588",
   "metadata": {},
   "outputs": [
    {
     "name": "stdout",
     "output_type": "stream",
     "text": [
      "File copiato da:\n",
      "/Users/marta/Documents/LSN/06/NSL_SIMULATOR/OUTPUT_Equilibrazione/CONFIG/config.ising\n",
      "a:\n",
      "/Users/marta/Documents/LSN/06/NSL_SIMULATOR/INPUT/CONFIG/config.spin\n",
      "make: Nothing to be done for `all'.\n"
     ]
    },
    {
     "name": "stderr",
     "output_type": "stream",
     "text": [
      "\n",
      "real\t0m7.333s\n",
      "user\t0m7.210s\n",
      "sys\t0m0.062s\n"
     ]
    },
    {
     "name": "stdout",
     "output_type": "stream",
     "text": [
      "\n",
      "--- Simulazione con TEMP = 2 ---\n",
      "\n",
      "--- Simulazione con TEMP = 1.800 ---\n",
      "make: Nothing to be done for `all'.\n",
      "\n",
      "--- Simulazione con TEMP = 1.655 ---\n",
      "make: Nothing to be done for `all'.\n",
      "\n",
      "--- Simulazione con TEMP = 1.509 ---\n",
      "make: Nothing to be done for `all'.\n",
      "\n",
      "--- Simulazione con TEMP = 1.364 ---\n",
      "make: Nothing to be done for `all'.\n",
      "\n",
      "--- Simulazione con TEMP = 1.218 ---\n",
      "make: Nothing to be done for `all'.\n",
      "\n",
      "--- Simulazione con TEMP = 1.073 ---\n",
      "make: Nothing to be done for `all'.\n",
      "\n",
      "--- Simulazione con TEMP = 0.927 ---\n",
      "make: Nothing to be done for `all'.\n",
      "\n",
      "--- Simulazione con TEMP = 0.782 ---\n",
      "make: Nothing to be done for `all'.\n",
      "\n",
      "--- Simulazione con TEMP = 0.636 ---\n",
      "make: Nothing to be done for `all'.\n",
      "\n",
      "--- Simulazione con TEMP = 0.491 ---\n",
      "make: Nothing to be done for `all'.\n",
      "\n",
      "--- Simulazione con TEMP = 0.345 ---\n",
      "make: Nothing to be done for `all'.\n",
      "\n",
      "--- Simulazione con TEMP = 0.200 ---\n",
      "make: Nothing to be done for `all'.\n",
      "Cartella copiata e rinominata in: /Users/marta/Documents/LSN/06/NSL_SIMULATOR/OUTPUT_GIBBS_NO_H\n"
     ]
    }
   ],
   "source": [
    "origine = \"/Users/marta/Documents/LSN/06/NSL_SIMULATOR/OUTPUT_Equilibrazione/CONFIG/config.ising\"\n",
    "\n",
    "destinazione = \"/Users/marta/Documents/LSN/06/NSL_SIMULATOR/INPUT/CONFIG/config.spin\"\n",
    "\n",
    "os.makedirs(os.path.dirname(destinazione), exist_ok=True)\n",
    "\n",
    "# Copia il file\n",
    "shutil.copyfile(origine, destinazione)\n",
    "print(f\"File copiato da:\\n{origine}\\na:\\n{destinazione}\")\n",
    "\n",
    "with open('/Users/marta/Documents/LSN/06/NSL_SIMULATOR/INPUT/input.dat', 'w') as file:\n",
    "    file.write(\"SIMULATION_TYPE        3    1.0   0.0\\nRESTART                1\\nTEMP                   2\\nNPART                  50\\nRHO                    0.05\\nR_CUT                  5\\nDELTA                  0.001\\nNBLOCKS                40\\nNSTEPS                 4000\\n\\nENDINPUT\")\n",
    "\n",
    "os.chdir('/Users/marta/Documents/LSN/06/NSL_SIMULATOR/SOURCE')\n",
    "\n",
    "os.system('make')\n",
    "os.system('time ./simulator.exe')\n",
    "print(f\"\\n--- Simulazione con TEMP = 2 ---\")\n",
    "\n",
    "temperature = np.linspace(1.8, 0.2, 12)\n",
    "\n",
    "origine = \"/Users/marta/Documents/LSN/06/NSL_SIMULATOR/OUTPUT/CONFIG/config.ising\"\n",
    "destinazione = \"/Users/marta/Documents/LSN/06/NSL_SIMULATOR/INPUT/CONFIG/config.spin\"\n",
    "input_file_path = \"/Users/marta/Documents/LSN/06/NSL_SIMULATOR/INPUT/input.dat\"\n",
    "source_dir = \"/Users/marta/Documents/LSN/06/NSL_SIMULATOR/SOURCE\"\n",
    "\n",
    "for temp in temperature:\n",
    "    print(f\"\\n--- Simulazione con TEMP = {temp:.3f} ---\")\n",
    "\n",
    "    os.makedirs(os.path.dirname(destinazione), exist_ok=True)\n",
    "    shutil.copyfile(origine, destinazione)\n",
    "\n",
    "    with open(input_file_path, 'w') as file:\n",
    "        file.write(\n",
    "            f\"SIMULATION_TYPE        3    1.0   0.0\\n\"\n",
    "            f\"RESTART                1\\n\"\n",
    "            f\"TEMP                   {temp:.3f}\\n\"\n",
    "            f\"NPART                  50\\n\"\n",
    "            f\"RHO                    0.05\\n\"\n",
    "            f\"R_CUT                  5\\n\"\n",
    "            f\"DELTA                  0.001\\n\"\n",
    "            f\"NBLOCKS                40\\n\"\n",
    "            f\"NSTEPS                 4000\\n\\n\"\n",
    "            f\"ENDINPUT\"\n",
    "        )\n",
    "\n",
    "    os.chdir(source_dir)\n",
    "\n",
    "    os.system('make')\n",
    "    os.system('./simulator.exe')\n",
    "\n",
    "origine = \"/Users/marta/Documents/LSN/06/NSL_SIMULATOR/OUTPUT\"\n",
    "destinazione = \"/Users/marta/Documents/LSN/06/NSL_SIMULATOR/OUTPUT_GIBBS_NO_H\"\n",
    "\n",
    "# Se la cartella di destinazione esiste, la elimino\n",
    "if os.path.exists(destinazione):\n",
    "    shutil.rmtree(destinazione)  # rimuove l'intera cartella\n",
    "\n",
    "# Copia della cartella\n",
    "shutil.copytree(origine, destinazione)\n",
    "print(f\"Cartella copiata e rinominata in: {destinazione}\")"
   ]
  },
  {
   "cell_type": "markdown",
   "id": "43e6268c",
   "metadata": {},
   "source": [
    "## Gibbs with H = 0.02, measure of M"
   ]
  },
  {
   "cell_type": "code",
   "execution_count": 8,
   "id": "d458f782",
   "metadata": {},
   "outputs": [
    {
     "name": "stdout",
     "output_type": "stream",
     "text": [
      "rm *.o simulator.exe\n",
      "g++ -c system.cpp -o system.o -O3 --std=c++11\n"
     ]
    },
    {
     "name": "stderr",
     "output_type": "stream",
     "text": [
      "In file included from system.cpp:14:\n",
      "In file included from ./system.h:18:\n",
      "In file included from /opt/homebrew/include/armadillo:27:\n",
      "/opt/homebrew/include/armadillo_bits/compiler_check.hpp:87:11: warning: INFO: support for C++11 is deprecated; minimum recommended standard is C++14 [-W#pragma-messages]\n",
      "   87 |   #pragma message (\"INFO: support for C++11 is deprecated; minimum recommended standard is C++14\")\n",
      "      |           ^\n",
      "1 warning generated.\n"
     ]
    },
    {
     "name": "stdout",
     "output_type": "stream",
     "text": [
      "g++ -c NSL_SIMULATOR.cpp -o NSL_SIMULATOR.o -O3 --std=c++11\n"
     ]
    },
    {
     "name": "stderr",
     "output_type": "stream",
     "text": [
      "In file included from NSL_SIMULATOR.cpp:12:\n",
      "In file included from ./system.h:18:\n",
      "In file included from /opt/homebrew/include/armadillo:27:\n",
      "/opt/homebrew/include/armadillo_bits/compiler_check.hpp:87:11: warning: INFO: support for C++11 is deprecated; minimum recommended standard is C++14 [-W#pragma-messages]\n",
      "   87 |   #pragma message (\"INFO: support for C++11 is deprecated; minimum recommended standard is C++14\")\n",
      "      |           ^\n",
      "1 warning generated.\n"
     ]
    },
    {
     "name": "stdout",
     "output_type": "stream",
     "text": [
      "g++ -c particle.cpp -o particle.o -O3 --std=c++11\n"
     ]
    },
    {
     "name": "stderr",
     "output_type": "stream",
     "text": [
      "In file included from particle.cpp:13:\n",
      "In file included from ./particle.h:14:\n",
      "In file included from /opt/homebrew/include/armadillo:27:\n",
      "/opt/homebrew/include/armadillo_bits/compiler_check.hpp:87:11: warning: INFO: support for C++11 is deprecated; minimum recommended standard is C++14 [-W#pragma-messages]\n",
      "   87 |   #pragma message (\"INFO: support for C++11 is deprecated; minimum recommended standard is C++14\")\n",
      "      |           ^\n",
      "1 warning generated.\n"
     ]
    },
    {
     "name": "stdout",
     "output_type": "stream",
     "text": [
      "g++ -c random.cpp -o random.o -O3 --std=c++11\n",
      "g++ system.o particle.o random.o NSL_SIMULATOR.o -o simulator.exe -larmadillo\n"
     ]
    },
    {
     "name": "stderr",
     "output_type": "stream",
     "text": [
      "\n",
      "real\t0m0.857s\n",
      "user\t0m0.364s\n",
      "sys\t0m0.327s\n"
     ]
    },
    {
     "data": {
      "text/plain": [
       "0"
      ]
     },
     "execution_count": 8,
     "metadata": {},
     "output_type": "execute_result"
    }
   ],
   "source": [
    "with open('/Users/marta/Documents/LSN/06/NSL_SIMULATOR/INPUT/input.dat', 'w') as file:\n",
    "    file.write(\"SIMULATION_TYPE        3    1.0   0.02\\nRESTART                0\\nTEMP                   2\\nNPART                  50\\nRHO                    0.05\\nR_CUT                  5\\nDELTA                  0.001\\nNBLOCKS                1000\\nNSTEPS                 1\\n\\nENDINPUT\")\n",
    "\n",
    "os.chdir('/Users/marta/Documents/LSN/06/NSL_SIMULATOR/SOURCE')\n",
    "os.system('make clean')\n",
    "os.system('make')\n",
    "os.system('time ./simulator.exe')"
   ]
  },
  {
   "cell_type": "code",
   "execution_count": 9,
   "id": "a54e5597",
   "metadata": {},
   "outputs": [
    {
     "name": "stdout",
     "output_type": "stream",
     "text": [
      "Cartella copiata e rinominata in: /Users/marta/Documents/LSN/06/NSL_SIMULATOR/OUTPUT_Equilibrazione\n"
     ]
    }
   ],
   "source": [
    "origine = \"/Users/marta/Documents/LSN/06/NSL_SIMULATOR/OUTPUT\"\n",
    "destinazione = \"/Users/marta/Documents/LSN/06/NSL_SIMULATOR/OUTPUT_Equilibrazione\"\n",
    "\n",
    "# Se la cartella di destinazione esiste, la elimino\n",
    "if os.path.exists(destinazione):\n",
    "    shutil.rmtree(destinazione)  # rimuove l'intera cartella\n",
    "\n",
    "# Copia della cartella\n",
    "shutil.copytree(origine, destinazione)\n",
    "print(f\"Cartella copiata e rinominata in: {destinazione}\")"
   ]
  },
  {
   "cell_type": "code",
   "execution_count": 10,
   "id": "739d618f",
   "metadata": {},
   "outputs": [
    {
     "name": "stdout",
     "output_type": "stream",
     "text": [
      "File copiato da:\n",
      "/Users/marta/Documents/LSN/06/NSL_SIMULATOR/OUTPUT_Equilibrazione/CONFIG/config.ising\n",
      "a:\n",
      "/Users/marta/Documents/LSN/06/NSL_SIMULATOR/INPUT/CONFIG/config.spin\n",
      "make: Nothing to be done for `all'.\n"
     ]
    },
    {
     "name": "stderr",
     "output_type": "stream",
     "text": [
      "\n",
      "real\t0m7.365s\n",
      "user\t0m7.226s\n",
      "sys\t0m0.080s\n"
     ]
    },
    {
     "name": "stdout",
     "output_type": "stream",
     "text": [
      "\n",
      "--- Simulazione con TEMP = 2 ---\n",
      "\n",
      "--- Simulazione con TEMP = 1.800 ---\n",
      "make: Nothing to be done for `all'.\n",
      "\n",
      "--- Simulazione con TEMP = 1.655 ---\n",
      "make: Nothing to be done for `all'.\n",
      "\n",
      "--- Simulazione con TEMP = 1.509 ---\n",
      "make: Nothing to be done for `all'.\n",
      "\n",
      "--- Simulazione con TEMP = 1.364 ---\n",
      "make: Nothing to be done for `all'.\n",
      "\n",
      "--- Simulazione con TEMP = 1.218 ---\n",
      "make: Nothing to be done for `all'.\n",
      "\n",
      "--- Simulazione con TEMP = 1.073 ---\n",
      "make: Nothing to be done for `all'.\n",
      "\n",
      "--- Simulazione con TEMP = 0.927 ---\n",
      "make: Nothing to be done for `all'.\n",
      "\n",
      "--- Simulazione con TEMP = 0.782 ---\n",
      "make: Nothing to be done for `all'.\n",
      "\n",
      "--- Simulazione con TEMP = 0.636 ---\n",
      "make: Nothing to be done for `all'.\n",
      "\n",
      "--- Simulazione con TEMP = 0.491 ---\n",
      "make: Nothing to be done for `all'.\n",
      "\n",
      "--- Simulazione con TEMP = 0.345 ---\n",
      "make: Nothing to be done for `all'.\n",
      "\n",
      "--- Simulazione con TEMP = 0.200 ---\n",
      "make: Nothing to be done for `all'.\n",
      "Cartella copiata e rinominata in: /Users/marta/Documents/LSN/06/NSL_SIMULATOR/OUTPUT_GIBBS_H\n"
     ]
    }
   ],
   "source": [
    "origine = \"/Users/marta/Documents/LSN/06/NSL_SIMULATOR/OUTPUT_Equilibrazione/CONFIG/config.ising\"\n",
    "\n",
    "destinazione = \"/Users/marta/Documents/LSN/06/NSL_SIMULATOR/INPUT/CONFIG/config.spin\"\n",
    "\n",
    "os.makedirs(os.path.dirname(destinazione), exist_ok=True)\n",
    "\n",
    "# Copia il file\n",
    "shutil.copyfile(origine, destinazione)\n",
    "print(f\"File copiato da:\\n{origine}\\na:\\n{destinazione}\")\n",
    "\n",
    "with open('/Users/marta/Documents/LSN/06/NSL_SIMULATOR/INPUT/input.dat', 'w') as file:\n",
    "    file.write(\"SIMULATION_TYPE        3    1.0   0.02\\nRESTART                1\\nTEMP                   2\\nNPART                  50\\nRHO                    0.05\\nR_CUT                  5\\nDELTA                  0.001\\nNBLOCKS                40\\nNSTEPS                 4000\\n\\nENDINPUT\")\n",
    "\n",
    "os.chdir('/Users/marta/Documents/LSN/06/NSL_SIMULATOR/SOURCE')\n",
    "\n",
    "os.system('make')\n",
    "os.system('time ./simulator.exe')\n",
    "print(f\"\\n--- Simulazione con TEMP = 2 ---\")\n",
    "\n",
    "temperature = np.linspace(1.8, 0.2, 12)\n",
    "\n",
    "origine = \"/Users/marta/Documents/LSN/06/NSL_SIMULATOR/OUTPUT/CONFIG/config.ising\"\n",
    "destinazione = \"/Users/marta/Documents/LSN/06/NSL_SIMULATOR/INPUT/CONFIG/config.spin\"\n",
    "input_file_path = \"/Users/marta/Documents/LSN/06/NSL_SIMULATOR/INPUT/input.dat\"\n",
    "source_dir = \"/Users/marta/Documents/LSN/06/NSL_SIMULATOR/SOURCE\"\n",
    "\n",
    "for temp in temperature:\n",
    "    print(f\"\\n--- Simulazione con TEMP = {temp:.3f} ---\")\n",
    "\n",
    "    os.makedirs(os.path.dirname(destinazione), exist_ok=True)\n",
    "    shutil.copyfile(origine, destinazione)\n",
    "\n",
    "    with open(input_file_path, 'w') as file:\n",
    "        file.write(\n",
    "            f\"SIMULATION_TYPE        3    1.0   0.02\\n\"\n",
    "            f\"RESTART                1\\n\"\n",
    "            f\"TEMP                   {temp:.3f}\\n\"\n",
    "            f\"NPART                  50\\n\"\n",
    "            f\"RHO                    0.05\\n\"\n",
    "            f\"R_CUT                  5\\n\"\n",
    "            f\"DELTA                  0.001\\n\"\n",
    "            f\"NBLOCKS                40\\n\"\n",
    "            f\"NSTEPS                 4000\\n\\n\"\n",
    "            f\"ENDINPUT\"\n",
    "        )\n",
    "\n",
    "    os.chdir(source_dir)\n",
    "\n",
    "    os.system('make')\n",
    "    os.system('./simulator.exe')\n",
    "\n",
    "origine = \"/Users/marta/Documents/LSN/06/NSL_SIMULATOR/OUTPUT\"\n",
    "destinazione = \"/Users/marta/Documents/LSN/06/NSL_SIMULATOR/OUTPUT_GIBBS_H\"\n",
    "\n",
    "# Se la cartella di destinazione esiste, la elimino\n",
    "if os.path.exists(destinazione):\n",
    "    shutil.rmtree(destinazione)  # rimuove l'intera cartella\n",
    "\n",
    "# Copia della cartella\n",
    "shutil.copytree(origine, destinazione)\n",
    "print(f\"Cartella copiata e rinominata in: {destinazione}\")"
   ]
  }
 ],
 "metadata": {
  "kernelspec": {
   "display_name": "base",
   "language": "python",
   "name": "python3"
  },
  "language_info": {
   "codemirror_mode": {
    "name": "ipython",
    "version": 3
   },
   "file_extension": ".py",
   "mimetype": "text/x-python",
   "name": "python",
   "nbconvert_exporter": "python",
   "pygments_lexer": "ipython3",
   "version": "3.12.7"
  }
 },
 "nbformat": 4,
 "nbformat_minor": 5
}
