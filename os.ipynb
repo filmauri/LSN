{
 "cells": [
  {
   "cell_type": "markdown",
   "id": "c8eec116",
   "metadata": {},
   "source": [
    "# OS CHEATSHEET"
   ]
  },
  {
   "cell_type": "markdown",
   "id": "d9c1d600",
   "metadata": {},
   "source": [
    "https://youtu.be/tJxcKyFMTGo?si=zney3CQ2KCFnPkaC"
   ]
  },
  {
   "cell_type": "code",
   "execution_count": 11,
   "id": "63ff71a5",
   "metadata": {},
   "outputs": [],
   "source": [
    "import os"
   ]
  },
  {
   "cell_type": "code",
   "execution_count": 12,
   "id": "9762b5ae",
   "metadata": {},
   "outputs": [
    {
     "name": "stdout",
     "output_type": "stream",
     "text": [
      "/Users/marta/Documents/LSN/01\n"
     ]
    }
   ],
   "source": [
    "print(os.getcwd())"
   ]
  },
  {
   "cell_type": "code",
   "execution_count": 13,
   "id": "2fdd619b",
   "metadata": {},
   "outputs": [
    {
     "name": "stdout",
     "output_type": "stream",
     "text": [
      "/Users/marta/Documents/LSN/01\n"
     ]
    }
   ],
   "source": [
    "#os.chdir('/Users/marta/Documents/LSN/01/')\n",
    "print(os.getcwd())"
   ]
  },
  {
   "cell_type": "code",
   "execution_count": 14,
   "id": "fe377550",
   "metadata": {},
   "outputs": [
    {
     "name": "stdout",
     "output_type": "stream",
     "text": [
      "['.DS_Store', '01.3', '01.2', 'LSN_Exercises_01.ipynb', '01.1', 'Esercizio1.ipynb']\n"
     ]
    }
   ],
   "source": [
    "print(os.listdir('.'))"
   ]
  },
  {
   "cell_type": "code",
   "execution_count": 15,
   "id": "4c6e0cb9",
   "metadata": {},
   "outputs": [],
   "source": [
    "os.makedirs('test/dir1/dir2', exist_ok=True)    "
   ]
  },
  {
   "cell_type": "code",
   "execution_count": 16,
   "id": "9456dfce",
   "metadata": {},
   "outputs": [],
   "source": [
    "os.removedirs('test/dir1/dir2')  # remove dir1 and all its contents"
   ]
  },
  {
   "cell_type": "code",
   "execution_count": null,
   "id": "2c5fceb4",
   "metadata": {},
   "outputs": [],
   "source": []
  }
 ],
 "metadata": {
  "kernelspec": {
   "display_name": "base",
   "language": "python",
   "name": "python3"
  },
  "language_info": {
   "codemirror_mode": {
    "name": "ipython",
    "version": 3
   },
   "file_extension": ".py",
   "mimetype": "text/x-python",
   "name": "python",
   "nbconvert_exporter": "python",
   "pygments_lexer": "ipython3",
   "version": "3.12.7"
  }
 },
 "nbformat": 4,
 "nbformat_minor": 5
}
